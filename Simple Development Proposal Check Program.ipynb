{
 "cells": [
  {
   "cell_type": "markdown",
   "metadata": {},
   "source": [
    "# Demonstration Rules as Code Application"
   ]
  },
  {
   "cell_type": "markdown",
   "metadata": {
    "jp-MarkdownHeadingCollapsed": true,
    "tags": []
   },
   "source": [
    "### This is a very simple program written in plain Python. Each step is explicitly described as an aid to learning*. \n",
    "\n",
    "This program asks the applicant to answer questions in order to get the input variables that are required to calculate outcome against any parameter. It is hoped that it is easy to imagine that instead of questions, these variables (height, setbacks etc) could be determined from digital plans, or a digital model of the development (if created according to some standard, ensuting it contained the right information).\n",
    "\n",
    "<span style=\"color:gray\">*This results in a lot of duplicated code.  A real application would take some kind of rule dataset listing entities, parameters and input information - and using the same piece of code go through each in some kind of loop to determine the legal status of each, given the table of input information.</span>"
   ]
  },
  {
   "cell_type": "markdown",
   "metadata": {},
   "source": [
    "### House Height Demo"
   ]
  },
  {
   "cell_type": "code",
   "execution_count": null,
   "metadata": {},
   "outputs": [],
   "source": [
    "#ENTITIES\n",
    "house = input(\"Does the proposed development involve a house? (Y/N)\")\n",
    "attached_development = input(\"Does the proposed development involve a attached development? (Y/N)\")\n",
    "\n",
    "#QUESTION\n",
    "height_question = \"What is the height? (please enter a number representing metres above existing ground level)\"\n",
    "\n",
    "#PARAMETER\n",
    "max_height = 10\n",
    "\n",
    "#LOGIC\n",
    "if house == \"Y\":\n",
    "    #ANSWER\n",
    "    house_height = input(\"House: \" + height_question)\n",
    "    #OUTCOME\n",
    "    house_height_outcome = float(house_height) <= max_height\n",
    "    \n",
    "    if house_height_outcome == True:\n",
    "        print(\"The proposed house complies with the height limit\")\n",
    "    else:\n",
    "        print(\"The proposed house does not comply with the height limit\")\n",
    "\n",
    "if attached_development == \"Y\":\n",
    "    #ANSWER\n",
    "    attached_development_height = input(\"Attached Development: \" + height_question)\n",
    "    #OUTCOME\n",
    "    attached_development_outcome = float(attached_development_height) <= max_height\n",
    "    \n",
    "    if attached_development_outcome == True:\n",
    "        print(\"The proposed attached development complies with the height limit\")\n",
    "    else:\n",
    "        print(\"The proposed attached development does not comply with the height limit\")"
   ]
  },
  {
   "cell_type": "markdown",
   "metadata": {},
   "source": [
    "### Setbacks Demo"
   ]
  },
  {
   "cell_type": "code",
   "execution_count": null,
   "metadata": {},
   "outputs": [],
   "source": [
    "#ENTITIES\n",
    "house = input(\"Does the proposed development involve a house? (Y/N)\")\n",
    "\n",
    "#QUESTIONS\n",
    "height_question = \"What is the height? (please enter a number representing metres above existing ground level)\"\n",
    "lot_size_question = \"What is the size of the lot?\"\n",
    "fbl_setback_question = \"What is the setback of the front building line from the primary road?\"\n",
    "az_setback_question = \"What is the setback of the articulation zone from the primary road?\"\n",
    "\n",
    "#PARAMETERS\n",
    "#Height parameter\n",
    "max_height = 8.5\n",
    "\n",
    "#Lot Size Parameters\n",
    "lot_size_setbacks_min = 200\n",
    "lot_size_setbacks_max = 300\n",
    "\n",
    "#Front building line setbacks\n",
    "fbl_min_setback_200_300 = 3\n",
    "fbl_min_setback_300plus = 4.5\n",
    "\n",
    "#Articulation zone setbacks\n",
    "az_min_setback_200_300 = 1.5\n",
    "az_min_setback_300plus = 3\n",
    "\n",
    "#LOGIC\n",
    "if house == \"Y\":\n",
    "    #ANSWER\n",
    "    house_height = input(\"House: \" + height_question)\n",
    "    #OUTCOME\n",
    "    house_height_outcome = float(house_height) <= max_height\n",
    "    \n",
    "    if house_height_outcome == True:\n",
    "        print(\"The proposed house complies with the height limit\")\n",
    "    else:\n",
    "        print(\"The proposed house does not comply with the height limit\")\n",
    "    \n",
    "    #ANSWER\n",
    "    lot_size = float(input(lot_size_question))\n",
    "    fbl_house_setback = float(input(fbl_setback_question)) \n",
    "    az_house_setback = float(input(az_setback_question)) \n",
    "    \n",
    "    # Calculate logic for the front building line outcome\n",
    "    if lot_size >= lot_size_setbacks_min and lot_size <= lot_size_setbacks_max:\n",
    "        fbl_house_setback_outcome = fbl_house_setback >= fbl_min_setback_200_300\n",
    "    \n",
    "    elif lot_size > lot_size_3m_setback_max:\n",
    "        fbl_house_setback_outcome = fbl_house_setback >= fbl_min_setback_300plus\n",
    "    \n",
    "    if lot_size >= lot_size_setbacks_min and lot_size <= lot_size_setbacks_max:\n",
    "        az_house_setback_outcome = az_house_setback >= az_min_setback_200_300\n",
    "    \n",
    "    elif lot_size > lot_size_3m_setback_max:\n",
    "        az_house_setback_outcome = az_house_setback >= az_min_setback_300plus\n",
    "        \n",
    "    # Give feedback to applicant\n",
    "    if fbl_house_setback_outcome == True:\n",
    "        print(\"The proposed house complies with the prescribed front building line setback from primary road\")\n",
    "    if fbl_house_setback_outcome == False:\n",
    "        print(\"The proposed house does not comply with the prescribed front building line setback from primary road\")\n",
    "    \n",
    "    # Give feedback to applicant\n",
    "    if az_house_setback_outcome == True:\n",
    "        print(\"The proposed house complies with the prescribed articulation zone setback from primary road\")\n",
    "    if az_house_setback_outcome == False:\n",
    "        print(\"The proposed house does not comply with the prescribed articulation zone setback from primary road\")\n"
   ]
  }
 ],
 "metadata": {
  "kernelspec": {
   "display_name": "Python 3 (ipykernel)",
   "language": "python",
   "name": "python3"
  },
  "language_info": {
   "codemirror_mode": {
    "name": "ipython",
    "version": 3
   },
   "file_extension": ".py",
   "mimetype": "text/x-python",
   "name": "python",
   "nbconvert_exporter": "python",
   "pygments_lexer": "ipython3",
   "version": "3.8.2"
  }
 },
 "nbformat": 4,
 "nbformat_minor": 4
}
