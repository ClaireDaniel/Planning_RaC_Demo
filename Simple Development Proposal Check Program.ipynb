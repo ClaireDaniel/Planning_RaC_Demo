{
 "cells": [
  {
   "cell_type": "markdown",
   "metadata": {},
   "source": [
    "# Demonstration Rules as Code Application"
   ]
  },
  {
   "cell_type": "markdown",
   "metadata": {},
   "source": [
    "### This is a very simple program written in plain Python. Each step is explicitly described as an aid to learning*. \n",
    "\n",
    "This program asks the applicant to answer questions in order to get the input variables that are required to calculate legality against any parameter. It is hoped that it is easy to imagine that instead of questions, these variables (height, setbacks etc) could be determined from digital plans, or a digital model of the development (if created according to some standard, ensuting it contained the right information).\n",
    "\n",
    "<span style=\"color:gray\">*This results in a lot of duplicated code.  A real application would take some kind of dataset listing entities, parameters and input variables - and using the same piece of code go through each in some kind of loop to determine the legal status of each, given the table of input information.</span>"
   ]
  },
  {
   "cell_type": "markdown",
   "metadata": {},
   "source": [
    "### House Height Demo"
   ]
  },
  {
   "cell_type": "code",
   "execution_count": 4,
   "metadata": {},
   "outputs": [],
   "source": [
    "# Define parameters\n",
    "max_height = 10"
   ]
  },
  {
   "cell_type": "code",
   "execution_count": 5,
   "metadata": {},
   "outputs": [
    {
     "name": "stdout",
     "output_type": "stream",
     "text": [
      "Does the proposed development involve a house? (Y/N)Y\n"
     ]
    }
   ],
   "source": [
    "# Check if relevant entities are part of the development proposal\n",
    "house_check = input(\"Does the proposed development involve a house? (Y/N)\")"
   ]
  },
  {
   "cell_type": "code",
   "execution_count": 6,
   "metadata": {},
   "outputs": [
    {
     "name": "stdout",
     "output_type": "stream",
     "text": [
      "What is the height of the house in meters?9\n",
      "The proposed house complies with the height limit\n"
     ]
    }
   ],
   "source": [
    "if house_check == \"Y\":\n",
    "    # ----------------------------------------------------------------------------------------\n",
    "    # 3C.9 Maximum Building Height\n",
    "    # ----------------------------------------------------------------------------------------\n",
    "    # Ask for input variables\n",
    "    house_height = input(\"What is the height of the house in meters?\")\n",
    "    house_height = float(house_height)\n",
    "    \n",
    "    # Calculate implicit/function variables\n",
    "    house_height_legality = house_height <= max_height\n",
    "    \n",
    "    # Give feedback to applicant\n",
    "    if house_height_legality == True:\n",
    "        print(\"The proposed house complies with the height limit\")\n",
    "    if house_height_legality == False:\n",
    "        print(\"The proposed house does not comply with the height limit\") "
   ]
  },
  {
   "cell_type": "markdown",
   "metadata": {},
   "source": [
    "### House Height and Setbacks"
   ]
  },
  {
   "cell_type": "code",
   "execution_count": null,
   "metadata": {},
   "outputs": [],
   "source": [
    "# Define parameters\n",
    "max_height = 8.5\n",
    "\n",
    "#Front building line setbacks\n",
    "fbl_min_setback_200_300 = 3\n",
    "fbl_min_setback_300plus = 4.5\n",
    "\n",
    "#Articulation zone setbacks\n",
    "az_min_setback_200_300 = 1.5\n",
    "az_min_setback_300plus = 3\n",
    "\n",
    "#Lot size parameters for setbacks\n",
    "lot_size_setbacks_min = 200\n",
    "lot_size_setbacks_max = 300"
   ]
  },
  {
   "cell_type": "code",
   "execution_count": null,
   "metadata": {},
   "outputs": [],
   "source": [
    "# Check if relevant entities are part of the development proposal\n",
    "house_check = input(\"Does the proposed development involve a house? (Y/N)\")\n",
    "attached_check = input(\"Does the proposed development involve a attached development? (Y/N)\")"
   ]
  },
  {
   "cell_type": "code",
   "execution_count": null,
   "metadata": {},
   "outputs": [],
   "source": [
    "if house_check == \"Y\":\n",
    "    \n",
    "    # ----------------------------------------------------------------------------------------\n",
    "    # 3C.9 Maximum Building Height\n",
    "    # ----------------------------------------------------------------------------------------\n",
    "    # Ask for input variables\n",
    "    house_height = input(\"What is the height of the house in meters?\")\n",
    "    house_height = float(house_height)\n",
    "    \n",
    "    # Calculate implicit/function variables\n",
    "    house_height_legality = house_height <= max_height\n",
    "    \n",
    "    # Give feedback to applicant\n",
    "    if house_height_legality == True:\n",
    "        print(\"The proposed house complies with the height limit\")\n",
    "    if house_height_legality == False:\n",
    "        print(\"The proposed house does not comply with the height limit\")\n",
    "    \n",
    "    # ----------------------------------------------------------------------------------------\n",
    "    # 3C.11 Minimum setbacks (first item on table only)\n",
    "    # ----------------------------------------------------------------------------------------\n",
    "    # Ask for input variables\n",
    "    lot_size = input(\"What is the lot size in square meters?\")\n",
    "    lot_size = float(lot_size) # convert text response to a number\n",
    "    fbl_house_setback = input(\"What is the setback of the front building line from the primary road?\")\n",
    "    fbl_house_setback = float(house_setback)# convert text response to a number\n",
    "    az_house_setback = input(\"What is the setback of the articulation zone from the primary road?\")\n",
    "    az_house_setback = float(house_setback)# convert text response to a number\n",
    "    \n",
    "    # Calculate implicit/function variables for the front building line legality\n",
    "    if lot_size >= lot_size_setbacks_min and lot_size <= lot_size_setbacks_max:\n",
    "        fbl_house_setback_legality = fbl_house_setback >= fbl_min_setback_200_300\n",
    "    \n",
    "    elif lot_size > lot_size_3m_setback_max:\n",
    "        fbl_house_setback_legality = fbl_house_setback >= fbl_min_setback_300plus\n",
    "        \n",
    "    # Calculate implicit/function variables for the articulation zone legality\n",
    "    if lot_size >= lot_size_setbacks_min and lot_size <= lot_size_setbacks_max:\n",
    "        az_house_setback_legality = az_house_setback >= az_min_setback_200_300\n",
    "    \n",
    "    elif lot_size > lot_size_3m_setback_max:\n",
    "        az_house_setback_legality = az_house_setback >= az_min_setback_300plus\n",
    "    \n",
    "    # Give feedback to applicant\n",
    "    if fbl_house_height_legality == True:\n",
    "        print(\"The proposed house complies with the prescribed front building line setback from primary road\")\n",
    "    if fbl_house_height_legality == False:\n",
    "        print(\"The proposed house does not comply with the prescribed front building line setback from primary road\")\n",
    "    \n",
    "    # Give feedback to applicant\n",
    "    if az_house_height_legality == True:\n",
    "        print(\"The proposed house complies with the prescribed articulation zone setback from primary road\")\n",
    "    if az_house_height_legality == False:\n",
    "        print(\"The proposed house does not comply with the prescribed articulation zone setback from primary road\")\n",
    "    "
   ]
  },
  {
   "cell_type": "code",
   "execution_count": null,
   "metadata": {},
   "outputs": [],
   "source": [
    "if attached_check == \"Y\":\n",
    "\n",
    "    # ----------------------------------------------------------------------------------------\n",
    "    # 3C.9 Maximum Building Height\n",
    "    # ----------------------------------------------------------------------------------------\n",
    "\n",
    "    # Ask for input variables\n",
    "    attached_height = input(\"What is the height of the attached_development in meters?\")\n",
    "\n",
    "    # Calculate implicit/function variables\n",
    "    attached_height_legality = float(attached_height) <= max_height\n",
    "\n",
    "    # Give feedback to applican\n",
    "    if attached_height_legality == True:\n",
    "        print(\"The proposed attached development complies with the height limit\")\n",
    "    if house_height_legality == False:\n",
    "        print(\"The proposed attached development does not comply with the height limit\")\n",
    "        \n",
    "    # ----------------------------------------------------------------------------------------\n",
    "    # 3C.11 Minimum setbacks (first item on table only)\n",
    "    # ----------------------------------------------------------------------------------------\n",
    "    # Ask for input variables\n",
    "    lot_size = input(\"What is the lot size in square meters?\")\n",
    "    lot_size = float(lot_size) # convert text response to a number\n",
    "    fbl_attdev_setback = input(\"What is the setback of the front building line from the primary road?\")\n",
    "    fbl_attdev_setback = float(house_setback)# convert text response to a number\n",
    "    az_attdev_setback = input(\"What is the setback of the articulation zone from the primary road?\")\n",
    "    az_attdev_setback = float(house_setback)# convert text response to a number\n",
    "    \n",
    "    # Calculate implicit/function variables for the front building line legality\n",
    "    if lot_size >= lot_size_setbacks_min and lot_size <= lot_size_setbacks_max:\n",
    "        fbl_attdev_setback_legality = fbl_attdev_setback >= fbl_min_setback_200_300\n",
    "    \n",
    "    elif lot_size > lot_size_3m_setback_max:\n",
    "        fbl_attdev_setback_legality = fbl_attdev_setback >= fbl_min_setback_300plus\n",
    "        \n",
    "    # Calculate implicit/function variables for the articulation zone legality\n",
    "    if lot_size >= lot_size_setbacks_min and lot_size <= lot_size_setbacks_max:\n",
    "        az_attdev_setback_legality = az_attdev_setback >= az_min_setback_200_300\n",
    "    \n",
    "    elif lot_size > lot_size_3m_setback_max:\n",
    "        az_attdev_setback_legality = az_attdev_setback >= az_min_setback_300plus\n",
    "    \n",
    "    # Give feedback to applicant\n",
    "    if fbl_attdev_height_legality == True:\n",
    "        print(\"The proposed attached development complies with the prescribed front building line setback from primary road\")\n",
    "    if fbl_attdev_height_legality == False:\n",
    "        print(\"The proposed attached development does not comply with the prescribed front building line setback from primary road\")\n",
    "    \n",
    "    # Give feedback to applicant\n",
    "    if az_attdev_height_legality == True:\n",
    "        print(\"The proposed attached development complies with the prescribed articulation zone setback from primary road\")\n",
    "    if az_attdev_height_legality == False:\n",
    "        print(\"The proposed attached development does not comply with the prescribed articulation zone setback from primary road\")\n",
    "    \n",
    "    "
   ]
  }
 ],
 "metadata": {
  "kernelspec": {
   "display_name": "Python 3",
   "language": "python",
   "name": "python3"
  },
  "language_info": {
   "codemirror_mode": {
    "name": "ipython",
    "version": 3
   },
   "file_extension": ".py",
   "mimetype": "text/x-python",
   "name": "python",
   "nbconvert_exporter": "python",
   "pygments_lexer": "ipython3",
   "version": "3.7.1"
  }
 },
 "nbformat": 4,
 "nbformat_minor": 2
}
